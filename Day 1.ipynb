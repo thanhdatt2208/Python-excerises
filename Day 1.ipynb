{
 "cells": [
  {
   "cell_type": "code",
   "execution_count": 3,
   "metadata": {},
   "outputs": [
    {
     "name": "stdout",
     "output_type": "stream",
     "text": [
      "11\n"
     ]
    }
   ],
   "source": [
    "#1\n",
    "text = \"Hello world\"\n",
    "print(len(text))"
   ]
  },
  {
   "cell_type": "code",
   "execution_count": 4,
   "metadata": {},
   "outputs": [
    {
     "name": "stdout",
     "output_type": "stream",
     "text": [
      "{'g': 2, 'o': 3, 'l': 1, 'e': 1, '.': 1, 'c': 1, 'm': 1}\n"
     ]
    }
   ],
   "source": [
    "#2\n",
    "text = \"google.com\"\n",
    "freq = {}\n",
    "for c in text:\n",
    "    if c in freq:\n",
    "        freq[c] += 1\n",
    "    else:\n",
    "        freq[c] = 1\n",
    "print (freq)"
   ]
  },
  {
   "cell_type": "code",
   "execution_count": 5,
   "metadata": {},
   "outputs": [
    {
     "name": "stdout",
     "output_type": "stream",
     "text": [
      "Held\n",
      "HiHi\n",
      "Empty string\n"
     ]
    }
   ],
   "source": [
    "#3\n",
    "text = \"Hello world\"\n",
    "print(text[:2]+text[-2:])\n",
    "text = \"Hi\"\n",
    "print(text[:2]+text[-2:])\n",
    "text = (\"H\")\n",
    "if (len(text) < 2):\n",
    "    print (\"Empty string\")"
   ]
  },
  {
   "cell_type": "code",
   "execution_count": 6,
   "metadata": {},
   "outputs": [
    {
     "name": "stdout",
     "output_type": "stream",
     "text": [
      "resta$t\n"
     ]
    }
   ],
   "source": [
    "#4\n",
    "text = \"restart\"\n",
    "firstChar = text[0]\n",
    "afterText = text[1:].replace(firstChar, \"$\")\n",
    "text = firstChar + afterText\n",
    "print(text)"
   ]
  },
  {
   "cell_type": "code",
   "execution_count": 7,
   "metadata": {},
   "outputs": [
    {
     "name": "stdout",
     "output_type": "stream",
     "text": [
      "wo hao ma ni ai ni\n"
     ]
    }
   ],
   "source": [
    "#5\n",
    "text1 = \"ni hao ma\"\n",
    "text2 = \"wo ai ni\"\n",
    "text1a = text2[:2] + text1[2:]\n",
    "text2a = text1[:2] + text2[2:]\n",
    "print (text1a, text2a)"
   ]
  },
  {
   "cell_type": "code",
   "execution_count": 8,
   "metadata": {},
   "outputs": [
    {
     "name": "stdout",
     "output_type": "stream",
     "text": [
      "entering\n"
     ]
    }
   ],
   "source": [
    "#6\n",
    "text = input(str(\"Put your word here:\"))\n",
    "if len(text) >= 3:\n",
    "    if text[-3:] == \"ing\":\n",
    "        text = text + \"ly\"\n",
    "        print(text)\n",
    "    else:\n",
    "        text = text + \"ing\"\n",
    "        print(text)\n",
    "else:\n",
    "    print(text)"
   ]
  },
  {
   "cell_type": "code",
   "execution_count": 9,
   "metadata": {},
   "outputs": [
    {
     "name": "stdout",
     "output_type": "stream",
     "text": [
      "The lyrics is good\n",
      "The lyrics is poor!\n"
     ]
    }
   ],
   "source": [
    "#7\n",
    "text1 = \"The lyrics is not that poor!\"\n",
    "text2 = \"The lyrics is poor!\"\n",
    "def replaceToGood (text, check1, check2, repalcementWord):\n",
    "    if check1 in text and check2 in text:\n",
    "        newText = text.replace (check1, repalcementWord)\n",
    "        index = newText.find(repalcementWord) + len(repalcementWord)\n",
    "        return newText[:index]\n",
    "    return text\n",
    "print (replaceToGood(text1,\"not\",\"poor\",\"good\"))\n",
    "print (replaceToGood(text2,\"not\",\"poor\",\"good\"))"
   ]
  },
  {
   "cell_type": "code",
   "execution_count": 29,
   "metadata": {},
   "outputs": [
    {
     "name": "stdout",
     "output_type": "stream",
     "text": [
      "Spectrum\n"
     ]
    }
   ],
   "source": [
    "#8\n",
    "listOfWords = [\"Lantern\",\"Melody\",\"Cascade\",\"Thunder\",\"Blossom\",\"Radiant\",\"Spectrum\"]\n",
    "longest = listOfWords[0]\n",
    "for x in listOfWords:\n",
    "    if len(x) > len(longest):\n",
    "        longest = x\n",
    "print(longest)"
   ]
  },
  {
   "cell_type": "code",
   "execution_count": 37,
   "metadata": {},
   "outputs": [
    {
     "name": "stdout",
     "output_type": "stream",
     "text": [
      "wwww\n"
     ]
    }
   ],
   "source": [
    "#9\n",
    "text = input(\"Your text: \")\n",
    "index = int(input(\"Index to remove character:\"))\n",
    "if  index <= len(text):\n",
    "    newText = text[:index] + text[index + 1:len(text)]\n",
    "    print(newText)\n",
    "else:\n",
    "    print(text)"
   ]
  },
  {
   "cell_type": "code",
   "execution_count": null,
   "metadata": {},
   "outputs": [
    {
     "name": "stdout",
     "output_type": "stream",
     "text": [
      "Your text: hello world\n",
      "Your new text: dello worlh\n"
     ]
    }
   ],
   "source": [
    "#10\n",
    "text = (input(\"Your text:\"))\n",
    "print(\"Your text:\", text)\n",
    "if len(text) > 1:\n",
    "    firstChar = text[0]\n",
    "    lastChar = text[len(text)-1]\n",
    "    newText = lastChar + text[1:len(text)-1] + firstChar\n",
    "    print(\"Your new text:\",newText)\n",
    "else:\n",
    "    print(\"Your text didn't change cause have less than 2 characters\")\n"
   ]
  },
  {
   "cell_type": "code",
   "execution_count": 49,
   "metadata": {},
   "outputs": [
    {
     "name": "stdout",
     "output_type": "stream",
     "text": [
      "Your text: hello world\n",
      "Your new text: el ol\n"
     ]
    }
   ],
   "source": [
    "#11\n",
    "text = (input(\"Your text:\"))\n",
    "print(\"Your text:\", text)\n",
    "print(\"Your new text:\",text[1::2])"
   ]
  },
  {
   "cell_type": "code",
   "execution_count": 55,
   "metadata": {},
   "outputs": [
    {
     "name": "stdout",
     "output_type": "stream",
     "text": [
      "Your text: hello world hello guys\n",
      "{'hello': 2, 'world': 1, 'guys': 1}\n"
     ]
    }
   ],
   "source": [
    "#12\n",
    "text = (input(\"Your text:\"))\n",
    "print(\"Your text:\", text)\n",
    "text = text.split()\n",
    "freq = {}\n",
    "for c in text:\n",
    "    if c in freq:\n",
    "        freq[c] += 1\n",
    "    else:\n",
    "        freq[c] = 1\n",
    "print(freq)"
   ]
  },
  {
   "cell_type": "code",
   "execution_count": 58,
   "metadata": {},
   "outputs": [
    {
     "name": "stdout",
     "output_type": "stream",
     "text": [
      "Your text: HelLO WorlD\n",
      "Upper case: HELLO WORLD\n",
      "Lower case: hello world\n"
     ]
    }
   ],
   "source": [
    "#13\n",
    "text = (input(\"Your text:\"))\n",
    "print(\"Your text:\", text)\n",
    "print(\"Upper case:\",text.upper())\n",
    "print(\"Lower case:\",text.lower())"
   ]
  },
  {
   "cell_type": "code",
   "execution_count": 60,
   "metadata": {},
   "outputs": [
    {
     "name": "stdout",
     "output_type": "stream",
     "text": [
      "Your list: Lantern, Melody, Cascade, Thunder, Blossom, Radiant, Spectrum, Velocity, Majestic, Triangle\n",
      "[' Blossom', ' Cascade', ' Majestic', ' Melody', ' Radiant', ' Spectrum', ' Thunder', ' Triangle', ' Velocity', 'Lantern']\n"
     ]
    }
   ],
   "source": [
    "#14\n",
    "listOfWords = (input(\"Your List:\"))\n",
    "print(\"Your list:\", listOfWords)\n",
    "listOfWords = listOfWords.split(\",\")\n",
    "print(sorted(listOfWords))"
   ]
  },
  {
   "cell_type": "code",
   "execution_count": 62,
   "metadata": {},
   "outputs": [
    {
     "name": "stdout",
     "output_type": "stream",
     "text": [
      "<i>Python</i>\n",
      "<b>Python Tutorial</b>\n"
     ]
    }
   ],
   "source": [
    "#15\n",
    "def addTags (tag,word):\n",
    "    return (f\"<{tag}>{word}</{tag}>\")\n",
    "print(addTags(\"i\",\"Python\"))\n",
    "print(addTags(\"b\",\"Python Tutorial\"))"
   ]
  },
  {
   "cell_type": "code",
   "execution_count": 79,
   "metadata": {},
   "outputs": [
    {
     "name": "stdout",
     "output_type": "stream",
     "text": [
      "[[Python]]\n"
     ]
    }
   ],
   "source": [
    "#16\n",
    "def insertStringMiddle(text1,text2):\n",
    "    mid = len(text1) // 2\n",
    "    newText = text1[:mid] + text2 + text1[mid:]\n",
    "    return newText\n",
    "print(insertStringMiddle(\"[[]]\",\"Python\"))"
   ]
  },
  {
   "cell_type": "code",
   "execution_count": 83,
   "metadata": {},
   "outputs": [
    {
     "name": "stdout",
     "output_type": "stream",
     "text": [
      "Your text: hello\n",
      "lolololo\n"
     ]
    }
   ],
   "source": [
    "#17\n",
    "text = (input(\"Your text:\"))\n",
    "print(\"Your text:\", text)\n",
    "if len(text) >= 2:\n",
    "    newText = text[-2:] + text[-2:] + text[-2:] + text[-2:]\n",
    "    print(newText)\n",
    "else:\n",
    "    print(\"Your length string must be at least 2\")\n"
   ]
  },
  {
   "cell_type": "code",
   "execution_count": 86,
   "metadata": {},
   "outputs": [
    {
     "name": "stdout",
     "output_type": "stream",
     "text": [
      "Your text: Hello world\n",
      "Your new text: Hel\n"
     ]
    }
   ],
   "source": [
    "#18\n",
    "text = (input(\"Your text:\"))\n",
    "print(\"Your text:\", text)\n",
    "if len(text) > 3:\n",
    "    print(\"Your new text:\",text[:3])\n",
    "else:\n",
    "    print(text)"
   ]
  },
  {
   "cell_type": "code",
   "execution_count": 91,
   "metadata": {},
   "outputs": [
    {
     "name": "stdout",
     "output_type": "stream",
     "text": [
      "Your text: helloworld\n",
      "Your char: o\n",
      "Your new text: hellow\n"
     ]
    }
   ],
   "source": [
    "#19\n",
    "text = (input(\"Your text:\"))\n",
    "print(\"Your text:\", text)\n",
    "char = (input(\"Your char:\"))\n",
    "print(\"Your char:\", char)\n",
    "def getLastPartBeforeChar(text,char):\n",
    "    position = text.rfind(char)\n",
    "    if position != -1:\n",
    "        return text[:position]\n",
    "    else:\n",
    "        return text\n",
    "print (\"Your new text:\",getLastPartBeforeChar(text,char))"
   ]
  },
  {
   "cell_type": "code",
   "execution_count": 94,
   "metadata": {},
   "outputs": [
    {
     "name": "stdout",
     "output_type": "stream",
     "text": [
      "Your text: hiroshima\n",
      "Your text didn't change cause its length does not a multiple of 4.\n"
     ]
    }
   ],
   "source": [
    "#20\n",
    "text = (input(\"Your text:\"))\n",
    "print(\"Your text:\", text)\n",
    "if len(text) % 4 == 0:\n",
    "    print(\"Your new text:\", text[::-1])\n",
    "else:\n",
    "    print(\"Your text didn't change cause its length does not a multiple of 4.\")"
   ]
  },
  {
   "cell_type": "code",
   "execution_count": 100,
   "metadata": {},
   "outputs": [
    {
     "name": "stdout",
     "output_type": "stream",
     "text": [
      "Your text: HeLlo world\n",
      "Your new text: HELLO WORLD\n"
     ]
    }
   ],
   "source": [
    "#21\n",
    "text = (input(\"Your text:\"))\n",
    "print(\"Your text:\", text)\n",
    "count = 0\n",
    "for x in text:\n",
    "    if x.isupper():\n",
    "        count +=1\n",
    "if count >= 2:\n",
    "    print(\"Your new text:\",text.upper())"
   ]
  },
  {
   "cell_type": "code",
   "execution_count": 107,
   "metadata": {},
   "outputs": [
    {
     "name": "stdout",
     "output_type": "stream",
     "text": [
      "Your text: \n",
      "\n"
     ]
    }
   ],
   "source": [
    "#22\n",
    "text = (input(\"Your text:\"))\n",
    "print(\"Your text:\", text)\n",
    "def sort_lexicographically(text):\n",
    "    return \"\".join(sorted(text))\n",
    "print(sort_lexicographically(text))"
   ]
  },
  {
   "cell_type": "code",
   "execution_count": 105,
   "metadata": {},
   "outputs": [
    {
     "name": "stdout",
     "output_type": "stream",
     "text": [
      "Your text: Hello world \n",
      "I'm 20\n",
      "Your new text: Hello world I'm 20\n"
     ]
    }
   ],
   "source": [
    "#23\n",
    "text = \"Hello world \\nI'm 20\"\n",
    "print(\"Your text:\" ,text)\n",
    "print(\"Your new text:\", text.replace(\"\\n\",\"\"))"
   ]
  },
  {
   "cell_type": "code",
   "execution_count": 110,
   "metadata": {},
   "outputs": [
    {
     "name": "stdout",
     "output_type": "stream",
     "text": [
      "Your text: Hello World\n",
      "Your char: H\n",
      "Does your text start with given char? True\n"
     ]
    }
   ],
   "source": [
    "#24\n",
    "text = (input(\"Your text:\"))\n",
    "print(\"Your text:\", text)\n",
    "char = (input(\"Your char:\"))\n",
    "print(\"Your char:\", char)\n",
    "print(\"Does your text start with given char?\",text.startswith(char))"
   ]
  },
  {
   "cell_type": "code",
   "execution_count": 114,
   "metadata": {},
   "outputs": [
    {
     "name": "stdout",
     "output_type": "stream",
     "text": [
      "Your text: hello world\n",
      "Your shift: 2\n",
      "Your encrypted text: jgnnq yqtnf\n"
     ]
    }
   ],
   "source": [
    "#25\n",
    "text = (input(\"Your text:\"))\n",
    "print(\"Your text:\", text)\n",
    "shift = int((input(\"Your shift:\")))\n",
    "print(\"Your shift:\", shift)\n",
    "text = text.lower()\n",
    "def caesarEncrypt(text,shift):\n",
    "    encryptedText = \"\"\n",
    "    for char in text:\n",
    "        if char.isalpha():\n",
    "            start = ord(\"a\")\n",
    "            encryptedChar= chr(start + (ord(char) - start + shift) % 26)\n",
    "            encryptedText += encryptedChar\n",
    "        else:\n",
    "            encryptedText+= char\n",
    "    return encryptedText\n",
    "newText = caesarEncrypt(text,shift)\n",
    "print(\"Your encrypted text:\",newText)"
   ]
  },
  {
   "cell_type": "code",
   "execution_count": 1,
   "metadata": {},
   "outputs": [
    {
     "name": "stdout",
     "output_type": "stream",
     "text": [
      "Your text: hello\n",
      "hello\n"
     ]
    }
   ],
   "source": [
    "#26\n",
    "import textwrap\n",
    "text = (input(\"Your text:\"))\n",
    "print(\"Your text:\", text)\n",
    "text = textwrap.fill(text, width=50)\n",
    "print(text)"
   ]
  },
  {
   "cell_type": "code",
   "execution_count": 3,
   "metadata": {},
   "outputs": [
    {
     "name": "stdout",
     "output_type": "stream",
     "text": [
      "Your text:            qpwoemopqwe\n",
      "qpwoemopqwe\n"
     ]
    }
   ],
   "source": [
    "#27\n",
    "text = (input(\"Your text:\"))\n",
    "print(\"Your text:\", text)\n",
    "text = text.split(\"\\n\")\n",
    "print('\\n'.join(line.lstrip() for line in text))"
   ]
  },
  {
   "cell_type": "code",
   "execution_count": null,
   "metadata": {},
   "outputs": [
    {
     "name": "stdout",
     "output_type": "stream",
     "text": [
      "-awdawmd\n"
     ]
    }
   ],
   "source": [
    "#28\n",
    "prefix, text = input(), input().split('\\n')\n",
    "print('\\n'.join(prefix + line for line in text))"
   ]
  },
  {
   "cell_type": "code",
   "execution_count": 7,
   "metadata": {},
   "outputs": [
    {
     "name": "stdout",
     "output_type": "stream",
     "text": [
      "Your text: hi world\n",
      "    hi world\n"
     ]
    }
   ],
   "source": [
    "#29\n",
    "text = (input(\"Your text:\"))\n",
    "print(\"Your text:\", text)\n",
    "\n",
    "text = text.split('\\n')\n",
    "if text:\n",
    "    text[0] = '    ' + text[0]\n",
    "print('\\n'.join(text))"
   ]
  },
  {
   "cell_type": "code",
   "execution_count": 13,
   "metadata": {},
   "outputs": [
    {
     "name": "stdout",
     "output_type": "stream",
     "text": [
      "Your number: 421\n",
      "Result: 421.00\n"
     ]
    }
   ],
   "source": [
    "#30\n",
    "num = (int(input(\"Your number:\")))\n",
    "print(\"Your number:\",num)\n",
    "print(\"Result:\", f\"{num:.2f}\")"
   ]
  },
  {
   "cell_type": "code",
   "execution_count": 8,
   "metadata": {},
   "outputs": [
    {
     "name": "stdout",
     "output_type": "stream",
     "text": [
      "Your numbers: [123.0, 123.0, 12.0, 3.0]\n",
      "+123.00\n",
      "+123.00\n",
      "+12.00\n",
      "+3.00\n"
     ]
    }
   ],
   "source": [
    "#31\n",
    "nums = list(map(float, input().split()))\n",
    "print(\"Your numbers:\",nums)\n",
    "for n in nums:\n",
    "    print(f\"{n:+.2f}\")"
   ]
  },
  {
   "cell_type": "code",
   "execution_count": 9,
   "metadata": {},
   "outputs": [
    {
     "name": "stdout",
     "output_type": "stream",
     "text": [
      "Your numbers: [123.0, 123.0, 32.0, -21.0]\n",
      "123\n",
      "123\n",
      "32\n",
      "-21\n"
     ]
    }
   ],
   "source": [
    "#32\n",
    "nums = list(map(float, input().split()))\n",
    "print(\"Your numbers:\",nums)\n",
    "for n in nums:\n",
    "    print(f\"{n:.0f}\")"
   ]
  },
  {
   "cell_type": "code",
   "execution_count": null,
   "metadata": {},
   "outputs": [
    {
     "name": "stdout",
     "output_type": "stream",
     "text": [
      "Your numbers: 36\n",
      "Your width: 4\n",
      "0036\n"
     ]
    }
   ],
   "source": [
    "#33\n",
    "num, width = int(input()), int(input())\n",
    "print(\"Your numbers:\",num)\n",
    "print(\"Your width:\",width)\n",
    "print(f\"{num:0{width}d}\")"
   ]
  },
  {
   "cell_type": "code",
   "execution_count": 13,
   "metadata": {},
   "outputs": [
    {
     "name": "stdout",
     "output_type": "stream",
     "text": [
      "Your numbers: 32\n",
      "Your width: 4\n",
      "32**\n"
     ]
    }
   ],
   "source": [
    "#34\n",
    "num, width = int(input()), int(input())\n",
    "print(\"Your numbers:\",num)\n",
    "print(\"Your width:\",width)\n",
    "print(f\"{num:*<{width}}\")"
   ]
  },
  {
   "cell_type": "code",
   "execution_count": 19,
   "metadata": {},
   "outputs": [
    {
     "name": "stdout",
     "output_type": "stream",
     "text": [
      "350,000\n"
     ]
    }
   ],
   "source": [
    "#35\n",
    "num = int(input())\n",
    "print(f\"{num:,}\")"
   ]
  },
  {
   "cell_type": "code",
   "execution_count": 22,
   "metadata": {},
   "outputs": [
    {
     "name": "stdout",
     "output_type": "stream",
     "text": [
      "Your numbers: 0.46\n",
      "46.00%\n"
     ]
    }
   ],
   "source": [
    "#36\n",
    "num = float(input())\n",
    "print(\"Your numbers:\",num)\n",
    "print(f\"{num:.2%}\")"
   ]
  },
  {
   "cell_type": "code",
   "execution_count": 24,
   "metadata": {},
   "outputs": [
    {
     "name": "stdout",
     "output_type": "stream",
     "text": [
      "Your numbers: 10\n",
      "Left: 10        \n",
      "Right:         10\n",
      "Center:     10    \n"
     ]
    }
   ],
   "source": [
    "#37\n",
    "num = int(input())\n",
    "print(\"Your numbers:\",num)\n",
    "print(f\"Left: {num:<10}\\nRight: {num:>10}\\nCenter: {num:^10}\")"
   ]
  },
  {
   "cell_type": "code",
   "execution_count": null,
   "metadata": {},
   "outputs": [
    {
     "name": "stdout",
     "output_type": "stream",
     "text": [
      "Your string: hello google\n",
      "Your substring: google\n",
      "1\n"
     ]
    }
   ],
   "source": [
    "#38\n",
    "s, substr = input(), input()\n",
    "print(\"Your string:\",s)\n",
    "print(\"Your substring:\",substr)\n",
    "print(s.count(substr))"
   ]
  },
  {
   "cell_type": "code",
   "execution_count": 30,
   "metadata": {},
   "outputs": [
    {
     "name": "stdout",
     "output_type": "stream",
     "text": [
      "Your string: hello world\n",
      "dlrow olleh\n"
     ]
    }
   ],
   "source": [
    "#39\n",
    "s = input()\n",
    "print(\"Your string:\",s)\n",
    "s = s[::-1]\n",
    "print(s)"
   ]
  },
  {
   "cell_type": "code",
   "execution_count": 38,
   "metadata": {},
   "outputs": [
    {
     "name": "stdout",
     "output_type": "stream",
     "text": [
      "Reversed words: python gello\n"
     ]
    }
   ],
   "source": [
    "#40\n",
    "text = input(\"Enter a sentence: \")\n",
    "reversed_text = ' '.join(text.split()[::-1])\n",
    "print(\"Reversed words:\", reversed_text)"
   ]
  },
  {
   "cell_type": "code",
   "execution_count": 39,
   "metadata": {},
   "outputs": [
    {
     "name": "stdout",
     "output_type": "stream",
     "text": [
      "hell wrld\n"
     ]
    }
   ],
   "source": [
    "#41\n",
    "s, chars = input(), set(input())\n",
    "print(''.join(c for c in s if c not in chars))"
   ]
  },
  {
   "cell_type": "code",
   "execution_count": 43,
   "metadata": {},
   "outputs": [
    {
     "name": "stdout",
     "output_type": "stream",
     "text": [
      "hello world\n",
      "l 3\n",
      "o 2\n"
     ]
    }
   ],
   "source": [
    "#42\n",
    "from collections import defaultdict\n",
    "s = input()\n",
    "print(s)\n",
    "counts = defaultdict(int)\n",
    "for c in s:\n",
    "    counts[c] += 1\n",
    "for char, cnt in sorted(counts.items(), key=lambda x: (-x[1], x[0])):\n",
    "    if cnt > 1:\n",
    "        print(f\"{char} {cnt}\")"
   ]
  },
  {
   "cell_type": "code",
   "execution_count": 45,
   "metadata": {},
   "outputs": [
    {
     "name": "stdout",
     "output_type": "stream",
     "text": [
      "The area of the rectangle is 12.0cm²\n",
      "The volume of the cylinder is 36.0cm³\n"
     ]
    }
   ],
   "source": [
    "#43\n",
    "area, volume = float(input()), float(input())\n",
    "print(f\"The area of the rectangle is {area}cm²\\nThe volume of the cylinder is {volume}cm³\")"
   ]
  },
  {
   "cell_type": "code",
   "execution_count": 47,
   "metadata": {},
   "outputs": [
    {
     "name": "stdout",
     "output_type": "stream",
     "text": [
      "Current character i position at 0\n",
      "Current character ' position at 1\n",
      "Current character m position at 2\n",
      "Current character   position at 3\n",
      "Current character D position at 4\n",
      "Current character a position at 5\n",
      "Current character t position at 6\n"
     ]
    }
   ],
   "source": [
    "#44\n",
    "s = input()\n",
    "for i, c in enumerate(s):\n",
    "    print(f\"Current character {c} position at {i}\")"
   ]
  },
  {
   "cell_type": "code",
   "execution_count": null,
   "metadata": {},
   "outputs": [
    {
     "name": "stdout",
     "output_type": "stream",
     "text": [
      "Câu 45:\n",
      "False\n"
     ]
    }
   ],
   "source": [
    "#45\n",
    "import string\n",
    "s = input().lower()\n",
    "print(set(s) >= set(string.ascii_lowercase))"
   ]
  },
  {
   "cell_type": "code",
   "execution_count": 54,
   "metadata": {},
   "outputs": [
    {
     "name": "stdout",
     "output_type": "stream",
     "text": [
      "['hi', 'guys,', \"i'm\", 'Tran', 'Dat']\n"
     ]
    }
   ],
   "source": [
    "#46\n",
    "print(input().split())"
   ]
  },
  {
   "cell_type": "code",
   "execution_count": 57,
   "metadata": {},
   "outputs": [
    {
     "name": "stdout",
     "output_type": "stream",
     "text": [
      "helLO WORLD\n"
     ]
    }
   ],
   "source": [
    "#47\n",
    "s, n = input(), int(input())\n",
    "print(s[:n].lower() + s[n:])"
   ]
  },
  {
   "cell_type": "code",
   "execution_count": 60,
   "metadata": {},
   "outputs": [
    {
     "name": "stdout",
     "output_type": "stream",
     "text": [
      "3232,323.42\n"
     ]
    }
   ],
   "source": [
    "#48\n",
    "s = input().translate(str.maketrans({'.':',', ',':'.'}))\n",
    "print(s)"
   ]
  },
  {
   "cell_type": "code",
   "execution_count": 63,
   "metadata": {},
   "outputs": [
    {
     "name": "stdout",
     "output_type": "stream",
     "text": [
      "hello world\n",
      "e 1\n",
      "o 2\n"
     ]
    }
   ],
   "source": [
    "#49\n",
    "vowels = 'aeiouAEIOU'\n",
    "s = input()\n",
    "print(s)\n",
    "counts = {v: s.count(v) for v in vowels}\n",
    "for v in sorted(v for v in counts if counts[v] > 0):\n",
    "    print(v, counts[v])"
   ]
  },
  {
   "cell_type": "code",
   "execution_count": 65,
   "metadata": {},
   "outputs": [
    {
     "name": "stdout",
     "output_type": "stream",
     "text": [
      "apple/banana/grape\n",
      "/\n",
      "Before last delimiter: apple/banana\n",
      "After last delimiter: grape\n"
     ]
    }
   ],
   "source": [
    "#50. Write a Python program to split a string on the last occurrence of the delimiter.\n",
    "text = input(\"Enter a string: \")\n",
    "print(text)\n",
    "delimiter = input(\"Enter a delimiter: \")\n",
    "print(delimiter)\n",
    "parts = text.rsplit(delimiter, 1)\n",
    "print(\"Before last delimiter:\", parts[0])\n",
    "print(\"After last delimiter:\", parts[1])"
   ]
  }
 ],
 "metadata": {
  "kernelspec": {
   "display_name": "Python 3",
   "language": "python",
   "name": "python3"
  },
  "language_info": {
   "codemirror_mode": {
    "name": "ipython",
    "version": 3
   },
   "file_extension": ".py",
   "mimetype": "text/x-python",
   "name": "python",
   "nbconvert_exporter": "python",
   "pygments_lexer": "ipython3",
   "version": "3.12.9"
  }
 },
 "nbformat": 4,
 "nbformat_minor": 2
}
